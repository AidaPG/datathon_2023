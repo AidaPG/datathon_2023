{
  "cells": [
    {
      "cell_type": "code",
      "execution_count": 3,
      "metadata": {
        "colab": {
          "base_uri": "https://localhost:8080/"
        },
        "id": "1QkdYCSgpIFo",
        "outputId": "cb1eb72e-aa80-46d1-b24f-049557b87328"
      },
      "outputs": [
        {
          "output_type": "stream",
          "name": "stdout",
          "text": [
            "<class 'pandas.core.frame.DataFrame'>\n",
            "Int64Index: 1391 entries, 0 to 1402\n",
            "Data columns (total 17 columns):\n",
            " #   Column                 Non-Null Count  Dtype         \n",
            "---  ------                 --------------  -----         \n",
            " 0   Posición               1391 non-null   object        \n",
            " 1   Area                   1391 non-null   object        \n",
            " 2   Á.liq.                 1391 non-null   object        \n",
            " 3   Grupo de personal      1391 non-null   object        \n",
            " 4   CODIGO POSTAL          1391 non-null   int64         \n",
            " 5   Motivo de la RENUNCIA  1391 non-null   object        \n",
            " 6   Banda                  1391 non-null   object        \n",
            " 7   Baja                   1391 non-null   datetime64[ns]\n",
            " 8   ReglaPHT               1391 non-null   object        \n",
            " 9   Alta                   1391 non-null   datetime64[ns]\n",
            " 10  Antigüedad             1391 non-null   int64         \n",
            " 11  Clave de sexo          1391 non-null   object        \n",
            " 12  Lugar de nacimiento    1391 non-null   object        \n",
            " 13  Nacionalidad           1391 non-null   object        \n",
            " 14  Edad del empleado      1391 non-null   int64         \n",
            " 15  Estado Civil           1391 non-null   object        \n",
            " 16  Hijos                  1391 non-null   int64         \n",
            "dtypes: datetime64[ns](2), int64(4), object(11)\n",
            "memory usage: 195.6+ KB\n"
          ]
        }
      ],
      "source": [
        "import pandas as pd\n",
        "data = pd.read_excel(\"/content/bosch_aic_datathon.xlsx\")\n",
        "df= data.dropna(how=\"all\")\n",
        "df.drop(columns=['¿Cuanto tiempo tiene viviendo en Cd. Juarez?','Años','Meses'], inplace=True)\n",
        "df.dropna(inplace=True)\n",
        "df.info()"
      ]
    },
    {
      "cell_type": "code",
      "execution_count": 4,
      "metadata": {
        "colab": {
          "base_uri": "https://localhost:8080/"
        },
        "id": "lVFdxs8oqssN",
        "outputId": "5b04a70d-c920-4e1c-c50c-3bda3ac07f2f"
      },
      "outputs": [
        {
          "output_type": "execute_result",
          "data": {
            "text/plain": [
              "Index(['Posicion', 'Area', 'Aliq', 'Grupo_personal', 'CODIGO_POSTAL',\n",
              "       'Motivo_RENUNCIA', 'Banda', 'Baja', 'ReglaPHT', 'Alta', 'Antiguedad',\n",
              "       'Sexo', 'Lugar_nacimiento', 'Nacionalidad', 'Edad', 'Estado_Civil',\n",
              "       'Hijos'],\n",
              "      dtype='object')"
            ]
          },
          "metadata": {},
          "execution_count": 4
        }
      ],
      "source": [
        "df.rename(columns={'Posición':'Posicion',\n",
        "                   'Á.liq.':'Aliq',\n",
        "                   'Grupo de personal':'Grupo_personal',\n",
        "                   'CODIGO POSTAL':'CODIGO_POSTAL',\n",
        "                   'Motivo de la RENUNCIA': 'Motivo_RENUNCIA',\n",
        "                   'Clave de sexo':'Sexo',\n",
        "                   'Lugar de nacimiento':'Lugar_nacimiento',\n",
        "                   'Edad del empleado':'Edad',\n",
        "                   'Estado Civil':'Estado_Civil',\n",
        "                   'Antigüedad':'Antiguedad'}, inplace=True)\n",
        "df.columns"
      ]
    },
    {
      "cell_type": "code",
      "execution_count": 5,
      "metadata": {
        "id": "YZQeAIaIqRRN"
      },
      "outputs": [],
      "source": [
        "df.replace(['CIUDAD JUAREZ',\n",
        "            'CD. JUAREZ CHIH',\n",
        "            'AZTECA CIUDAD JUAREZ',\n",
        "            'CD. JUAREZ',\n",
        "            'CD JUAREZ',\n",
        "            'JUAREZ, CHIHUAHUA',\n",
        "            'CD.JUAREZ',\n",
        "            'CD JUAREZ CHIH',\n",
        "            'CD.JUAREZ,CHIH',\n",
        "            'CD. JUAREZ, CHIH.',\n",
        "            'CD. JUAREZ, CHIHUAHUA',\n",
        "            'CD. JUAREZ, CHIH',\n",
        "            'CD. JUAREZ CHIH.',\n",
        "            'CD. JUAREZ CHIHUAHUA',\n",
        "            'CIUDAD JUAREZ, CHIH',\n",
        "            ], \"JUAREZ\",inplace=True)\n",
        "df.replace(['CHIHUAHUA CHIH.','CHIHUAHUA CHI.'], \"CHIHUAHUA\",inplace=True)\n",
        "df.replace(['MEXICO D.F','MEXICO DF'], 'MEXICO D.F.', inplace=True)\n",
        "df.replace(['CD. GOMEZ PALACIO','CD GOMEZ PALACIO'], 'GOMEZ PALACIO', inplace=True)\n",
        "df.replace(['NUEVO CASAS GRANDES, CHIH','NVO CASAS GRANDES'], 'NUEVO CASAS GRANDES', inplace=True)\n",
        "df.replace(['COSAMALOAPAN DE CARPIO','COSAMALOPAPAN'], 'COSAMALOAPAN', inplace=True)\n",
        "df.replace(['PARRAL, CHIH','HIDALGO DE PARRAL',  'HIDALGO DEL PARRAL, CHIH.','HGO DEL PARRAL CHIH'], 'HIDALGO DEL PARRAL', inplace=True)\n",
        "df.replace(['CD. DELICIAS CHIH.', 'DELICIAS CHIHUAHUA'], 'DELICIAS', inplace=True)\n",
        "df.replace([\"TATAUICAPAN\", \"STA BARBARA\", 'TORREON, COAHUILA', 'FRANCISCO I MADERO','ALLENDE, CHIH.','CORDOVA VER','MEXICO','GOMEZ FARIAS CHIHUAHUA','CUAUHTEMOC, CHIH', 'TUXTEPEC OAXACA','TOLUCA MEXICO','MATAMOROS COAH.','GUANAJUATO','QUERETARO','GPE. VICTORIA CHIH.','BALLEZA, CHIHUAHUA','LOMA BONITA, OAXACA'],\n",
        "           [\"TATAHUICAPAN\", \"SANTA BARBARA\",\"TORREON\", 'FRANCISCO I. MADERO','ALLENDE','CORDOVA','ESTADO DE MEXICO','GOMEZ FARIAS','CUAUHTEMOC','TUXTEPEC','TOLUCA','MATAMOROS','GUANAJUATIO','QUERETARO, QRO','GUADALUPE VICTORIA','BALLEZA','LOMA BONITA'],inplace=True)"
      ]
    },
    {
      "cell_type": "code",
      "execution_count": 6,
      "metadata": {
        "colab": {
          "base_uri": "https://localhost:8080/"
        },
        "id": "0BxlJVClpTo4",
        "outputId": "a67a7e08-1152-434f-a23b-4e1ef2b343ea"
      },
      "outputs": [
        {
          "output_type": "execute_result",
          "data": {
            "text/plain": [
              "Solter    736\n",
              "Casad.    334\n",
              "U.libr    285\n",
              "Divorc     29\n",
              "Viud.       5\n",
              "Concu.      1\n",
              "Sep.        1\n",
              "Name: Estado_Civil, dtype: int64"
            ]
          },
          "metadata": {},
          "execution_count": 6
        }
      ],
      "source": [
        "df['Estado_Civil']=df['Estado_Civil'].str.capitalize().str.strip()\n",
        "df[\"Estado_Civil\"].value_counts()"
      ]
    },
    {
      "cell_type": "code",
      "execution_count": 7,
      "metadata": {
        "colab": {
          "base_uri": "https://localhost:8080/"
        },
        "id": "rKs1-7pFrJ3G",
        "outputId": "e4df01d7-2c3d-4ae0-87ca-e9b3b26dc0c6"
      },
      "outputs": [
        {
          "output_type": "stream",
          "name": "stdout",
          "text": [
            "<class 'pandas.core.frame.DataFrame'>\n",
            "Int64Index: 1391 entries, 0 to 1402\n",
            "Data columns (total 17 columns):\n",
            " #   Column            Non-Null Count  Dtype         \n",
            "---  ------            --------------  -----         \n",
            " 0   Posicion          1391 non-null   object        \n",
            " 1   Area              1391 non-null   object        \n",
            " 2   Aliq              1391 non-null   object        \n",
            " 3   Grupo_personal    1391 non-null   object        \n",
            " 4   CODIGO_POSTAL     1391 non-null   int64         \n",
            " 5   Motivo_RENUNCIA   1391 non-null   object        \n",
            " 6   Banda             1391 non-null   object        \n",
            " 7   Baja              1391 non-null   datetime64[ns]\n",
            " 8   ReglaPHT          1391 non-null   object        \n",
            " 9   Alta              1391 non-null   datetime64[ns]\n",
            " 10  Antiguedad        1391 non-null   int64         \n",
            " 11  Sexo              1391 non-null   object        \n",
            " 12  Lugar_nacimiento  1391 non-null   object        \n",
            " 13  Nacionalidad      1391 non-null   object        \n",
            " 14  Edad              1391 non-null   int64         \n",
            " 15  Estado_Civil      1391 non-null   object        \n",
            " 16  Hijos             1391 non-null   int64         \n",
            "dtypes: datetime64[ns](2), int64(4), object(11)\n",
            "memory usage: 195.6+ KB\n"
          ]
        }
      ],
      "source": [
        "df.info()"
      ]
    },
    {
      "cell_type": "code",
      "execution_count": 8,
      "metadata": {
        "id": "IWPHg4JVrMqm"
      },
      "outputs": [],
      "source": [
        "df.to_csv(\"RH.csv\",index=False)"
      ]
    },
    {
      "cell_type": "markdown",
      "metadata": {
        "id": "2zXVmOQarQcc"
      },
      "source": [
        "## DataBase"
      ]
    },
    {
      "cell_type": "code",
      "execution_count": 9,
      "metadata": {
        "id": "GbQ1qeRGb2a4"
      },
      "outputs": [],
      "source": [
        "import sqlite3\n",
        "import csv"
      ]
    },
    {
      "cell_type": "code",
      "execution_count": 10,
      "metadata": {
        "id": "5-kh_kx8b-Ye"
      },
      "outputs": [],
      "source": [
        "def create_RH_table():\n",
        "    conn = sqlite3.connect(\"RH.db\")\n",
        "    cursor = conn.cursor()\n",
        "\n",
        "    cursor.execute(\"\"\"CREATE TABLE IF NOT EXISTS RH(\n",
        "                   id INTEGER PRIMARY KEY,\n",
        "                   Posicion TEXT NOT NULL,\n",
        "                   Area TEXT NOT NULL,\n",
        "                   Aliq TEXT ,\n",
        "                   Grupo_personal TEXT,\n",
        "                   CODIGO_POSTAL INTEGER,\n",
        "                   Motivo_RENUNCIA TEXT ,\n",
        "                   Banda TEXT ,\n",
        "                   Baja INTEGER,\n",
        "                   ReglaPHT  TEXT ,\n",
        "                   Alta INTEGER,\n",
        "                   Antiguedad INTEGER ,\n",
        "                   Sexo \tTEXT,\n",
        "                   Lugar_nacimiento  TEXT,\n",
        "                   Nacionalidad\tTEXT,\n",
        "                   Edad INTEGER ,\n",
        "                   Estado_Civil\tTEXT,\n",
        "                   Hijos INTEGER\n",
        "                   )\n",
        "                   \"\"\")\n",
        "\n",
        "    conn.commit()\n",
        "    conn.close()"
      ]
    },
    {
      "cell_type": "code",
      "execution_count": 11,
      "metadata": {
        "id": "5FMO6SXmcH5x"
      },
      "outputs": [],
      "source": [
        "def read_csv_file(csv_file):\n",
        "    with open(csv_file, newline='') as file:\n",
        "        reader = csv.DictReader(file)\n",
        "        data = [row for row in reader]\n",
        "    return data\n",
        "\n",
        "def insert_data_to_RH_table(data):\n",
        "    conn = sqlite3.connect(\"RH.db\")\n",
        "    cursor = conn.cursor()\n",
        "\n",
        "    for row in data:\n",
        "        cursor.execute(\"\"\"\n",
        "            INSERT INTO RH (Posicion, Area, Aliq, Grupo_personal, CODIGO_POSTAL, Motivo_RENUNCIA, Banda,\tBaja, ReglaPHT, Alta, Antiguedad,\tSexo, Lugar_nacimiento,\tNacionalidad, Edad, Estado_Civil, Hijos )\n",
        "            VALUES (?, ?, ?, ?, ?, ?, ?, ?, ?, ?, ?, ?, ?, ?, ?, ?, ?)\n",
        "        \"\"\", (row[\"Posicion\"], row[\"Area\"], row[\"Aliq\"], row[\"Grupo_personal\"], row[\"CODIGO_POSTAL\"], row[\"Motivo_RENUNCIA\"],row[\"Banda\"], row[\"Baja\"], row[\"ReglaPHT\"], row[\"Alta\"], row[\"Antiguedad\"], row[\"Sexo\"], row[\"Lugar_nacimiento\"], row[\"Nacionalidad\"], row[\"Edad\"], row[\"Estado_Civil\"], row[\"Hijos\"]))\n",
        "\n",
        "    conn.commit()\n",
        "    conn.close()"
      ]
    },
    {
      "cell_type": "code",
      "source": [
        "if __name__ == \"__main__\":\n",
        "    create_RH_table()\n",
        "# %%"
      ],
      "metadata": {
        "id": "VOIFlffnV9wA"
      },
      "execution_count": null,
      "outputs": []
    },
    {
      "cell_type": "code",
      "execution_count": 14,
      "metadata": {
        "id": "Wq__XkY1mE5E"
      },
      "outputs": [],
      "source": [
        "if __name__ == \"__main__\":\n",
        "    csv_file = \"/content/RH.csv\"\n",
        "    data_to_insert = read_csv_file(csv_file)\n",
        "    insert_data_to_RH_table(data_to_insert)\n"
      ]
    },
    {
      "cell_type": "markdown",
      "metadata": {
        "id": "kCP0tA9mtUfS"
      },
      "source": [
        "# Main"
      ]
    },
    {
      "cell_type": "code",
      "source": [
        "!pip install colabcode\n",
        "!pip install fastapi"
      ],
      "metadata": {
        "colab": {
          "base_uri": "https://localhost:8080/"
        },
        "id": "HJ3MGKtRH7ZB",
        "outputId": "b1d1fc0a-c794-4afb-a28c-4b421ac3ce34"
      },
      "execution_count": 1,
      "outputs": [
        {
          "output_type": "stream",
          "name": "stdout",
          "text": [
            "Requirement already satisfied: colabcode in /usr/local/lib/python3.10/dist-packages (0.3.0)\n",
            "Requirement already satisfied: pyngrok>=5.0.0 in /usr/local/lib/python3.10/dist-packages (from colabcode) (7.0.2)\n",
            "Requirement already satisfied: nest-asyncio==1.4.3 in /usr/local/lib/python3.10/dist-packages (from colabcode) (1.4.3)\n",
            "Requirement already satisfied: uvicorn==0.13.1 in /usr/local/lib/python3.10/dist-packages (from colabcode) (0.13.1)\n",
            "Requirement already satisfied: jupyterlab==3.0.7 in /usr/local/lib/python3.10/dist-packages (from colabcode) (3.0.7)\n",
            "Requirement already satisfied: ipython in /usr/local/lib/python3.10/dist-packages (from jupyterlab==3.0.7->colabcode) (7.34.0)\n",
            "Requirement already satisfied: packaging in /usr/local/lib/python3.10/dist-packages (from jupyterlab==3.0.7->colabcode) (23.2)\n",
            "Requirement already satisfied: tornado>=6.1.0 in /usr/local/lib/python3.10/dist-packages (from jupyterlab==3.0.7->colabcode) (6.3.2)\n",
            "Requirement already satisfied: jupyter-core in /usr/local/lib/python3.10/dist-packages (from jupyterlab==3.0.7->colabcode) (5.5.0)\n",
            "Requirement already satisfied: jupyterlab-server~=2.0 in /usr/local/lib/python3.10/dist-packages (from jupyterlab==3.0.7->colabcode) (2.25.2)\n",
            "Requirement already satisfied: jupyter-server~=1.2 in /usr/local/lib/python3.10/dist-packages (from jupyterlab==3.0.7->colabcode) (1.24.0)\n",
            "Requirement already satisfied: nbclassic~=0.2 in /usr/local/lib/python3.10/dist-packages (from jupyterlab==3.0.7->colabcode) (0.3.7)\n",
            "Requirement already satisfied: jinja2>=2.10 in /usr/local/lib/python3.10/dist-packages (from jupyterlab==3.0.7->colabcode) (3.1.2)\n",
            "Requirement already satisfied: click==7.* in /usr/local/lib/python3.10/dist-packages (from uvicorn==0.13.1->colabcode) (7.1.2)\n",
            "Requirement already satisfied: h11>=0.8 in /usr/local/lib/python3.10/dist-packages (from uvicorn==0.13.1->colabcode) (0.14.0)\n",
            "Requirement already satisfied: PyYAML in /usr/local/lib/python3.10/dist-packages (from pyngrok>=5.0.0->colabcode) (6.0.1)\n",
            "Requirement already satisfied: MarkupSafe>=2.0 in /usr/local/lib/python3.10/dist-packages (from jinja2>=2.10->jupyterlab==3.0.7->colabcode) (2.1.3)\n",
            "Requirement already satisfied: anyio<4,>=3.1.0 in /usr/local/lib/python3.10/dist-packages (from jupyter-server~=1.2->jupyterlab==3.0.7->colabcode) (3.7.1)\n",
            "Requirement already satisfied: argon2-cffi in /usr/local/lib/python3.10/dist-packages (from jupyter-server~=1.2->jupyterlab==3.0.7->colabcode) (23.1.0)\n",
            "Requirement already satisfied: jupyter-client>=6.1.12 in /usr/local/lib/python3.10/dist-packages (from jupyter-server~=1.2->jupyterlab==3.0.7->colabcode) (6.1.12)\n",
            "Requirement already satisfied: nbconvert>=6.4.4 in /usr/local/lib/python3.10/dist-packages (from jupyter-server~=1.2->jupyterlab==3.0.7->colabcode) (6.5.4)\n",
            "Requirement already satisfied: nbformat>=5.2.0 in /usr/local/lib/python3.10/dist-packages (from jupyter-server~=1.2->jupyterlab==3.0.7->colabcode) (5.9.2)\n",
            "Requirement already satisfied: prometheus-client in /usr/local/lib/python3.10/dist-packages (from jupyter-server~=1.2->jupyterlab==3.0.7->colabcode) (0.19.0)\n",
            "Requirement already satisfied: pyzmq>=17 in /usr/local/lib/python3.10/dist-packages (from jupyter-server~=1.2->jupyterlab==3.0.7->colabcode) (23.2.1)\n",
            "Requirement already satisfied: Send2Trash in /usr/local/lib/python3.10/dist-packages (from jupyter-server~=1.2->jupyterlab==3.0.7->colabcode) (1.8.2)\n",
            "Requirement already satisfied: terminado>=0.8.3 in /usr/local/lib/python3.10/dist-packages (from jupyter-server~=1.2->jupyterlab==3.0.7->colabcode) (0.18.0)\n",
            "Requirement already satisfied: traitlets>=5.1 in /usr/local/lib/python3.10/dist-packages (from jupyter-server~=1.2->jupyterlab==3.0.7->colabcode) (5.7.1)\n",
            "Requirement already satisfied: websocket-client in /usr/local/lib/python3.10/dist-packages (from jupyter-server~=1.2->jupyterlab==3.0.7->colabcode) (1.6.4)\n",
            "Requirement already satisfied: platformdirs>=2.5 in /usr/local/lib/python3.10/dist-packages (from jupyter-core->jupyterlab==3.0.7->colabcode) (4.0.0)\n",
            "Requirement already satisfied: babel>=2.10 in /usr/local/lib/python3.10/dist-packages (from jupyterlab-server~=2.0->jupyterlab==3.0.7->colabcode) (2.13.1)\n",
            "Requirement already satisfied: json5>=0.9.0 in /usr/local/lib/python3.10/dist-packages (from jupyterlab-server~=2.0->jupyterlab==3.0.7->colabcode) (0.9.14)\n",
            "Requirement already satisfied: jsonschema>=4.18.0 in /usr/local/lib/python3.10/dist-packages (from jupyterlab-server~=2.0->jupyterlab==3.0.7->colabcode) (4.19.2)\n",
            "Requirement already satisfied: requests>=2.31 in /usr/local/lib/python3.10/dist-packages (from jupyterlab-server~=2.0->jupyterlab==3.0.7->colabcode) (2.31.0)\n",
            "Requirement already satisfied: notebook<7 in /usr/local/lib/python3.10/dist-packages (from nbclassic~=0.2->jupyterlab==3.0.7->colabcode) (6.4.5)\n",
            "Requirement already satisfied: notebook-shim>=0.1.0 in /usr/local/lib/python3.10/dist-packages (from nbclassic~=0.2->jupyterlab==3.0.7->colabcode) (0.2.3)\n",
            "Requirement already satisfied: setuptools>=18.5 in /usr/local/lib/python3.10/dist-packages (from ipython->jupyterlab==3.0.7->colabcode) (67.7.2)\n",
            "Requirement already satisfied: jedi>=0.16 in /usr/local/lib/python3.10/dist-packages (from ipython->jupyterlab==3.0.7->colabcode) (0.19.1)\n",
            "Requirement already satisfied: decorator in /usr/local/lib/python3.10/dist-packages (from ipython->jupyterlab==3.0.7->colabcode) (4.4.2)\n",
            "Requirement already satisfied: pickleshare in /usr/local/lib/python3.10/dist-packages (from ipython->jupyterlab==3.0.7->colabcode) (0.7.5)\n",
            "Requirement already satisfied: prompt-toolkit!=3.0.0,!=3.0.1,<3.1.0,>=2.0.0 in /usr/local/lib/python3.10/dist-packages (from ipython->jupyterlab==3.0.7->colabcode) (3.0.41)\n",
            "Requirement already satisfied: pygments in /usr/local/lib/python3.10/dist-packages (from ipython->jupyterlab==3.0.7->colabcode) (2.16.1)\n",
            "Requirement already satisfied: backcall in /usr/local/lib/python3.10/dist-packages (from ipython->jupyterlab==3.0.7->colabcode) (0.2.0)\n",
            "Requirement already satisfied: matplotlib-inline in /usr/local/lib/python3.10/dist-packages (from ipython->jupyterlab==3.0.7->colabcode) (0.1.6)\n",
            "Requirement already satisfied: pexpect>4.3 in /usr/local/lib/python3.10/dist-packages (from ipython->jupyterlab==3.0.7->colabcode) (4.9.0)\n",
            "Requirement already satisfied: idna>=2.8 in /usr/local/lib/python3.10/dist-packages (from anyio<4,>=3.1.0->jupyter-server~=1.2->jupyterlab==3.0.7->colabcode) (3.6)\n",
            "Requirement already satisfied: sniffio>=1.1 in /usr/local/lib/python3.10/dist-packages (from anyio<4,>=3.1.0->jupyter-server~=1.2->jupyterlab==3.0.7->colabcode) (1.3.0)\n",
            "Requirement already satisfied: exceptiongroup in /usr/local/lib/python3.10/dist-packages (from anyio<4,>=3.1.0->jupyter-server~=1.2->jupyterlab==3.0.7->colabcode) (1.2.0)\n",
            "Requirement already satisfied: parso<0.9.0,>=0.8.3 in /usr/local/lib/python3.10/dist-packages (from jedi>=0.16->ipython->jupyterlab==3.0.7->colabcode) (0.8.3)\n",
            "Requirement already satisfied: attrs>=22.2.0 in /usr/local/lib/python3.10/dist-packages (from jsonschema>=4.18.0->jupyterlab-server~=2.0->jupyterlab==3.0.7->colabcode) (23.1.0)\n",
            "Requirement already satisfied: jsonschema-specifications>=2023.03.6 in /usr/local/lib/python3.10/dist-packages (from jsonschema>=4.18.0->jupyterlab-server~=2.0->jupyterlab==3.0.7->colabcode) (2023.11.1)\n",
            "Requirement already satisfied: referencing>=0.28.4 in /usr/local/lib/python3.10/dist-packages (from jsonschema>=4.18.0->jupyterlab-server~=2.0->jupyterlab==3.0.7->colabcode) (0.31.1)\n",
            "Requirement already satisfied: rpds-py>=0.7.1 in /usr/local/lib/python3.10/dist-packages (from jsonschema>=4.18.0->jupyterlab-server~=2.0->jupyterlab==3.0.7->colabcode) (0.13.2)\n",
            "Requirement already satisfied: python-dateutil>=2.1 in /usr/local/lib/python3.10/dist-packages (from jupyter-client>=6.1.12->jupyter-server~=1.2->jupyterlab==3.0.7->colabcode) (2.8.2)\n",
            "Requirement already satisfied: lxml in /usr/local/lib/python3.10/dist-packages (from nbconvert>=6.4.4->jupyter-server~=1.2->jupyterlab==3.0.7->colabcode) (4.9.3)\n",
            "Requirement already satisfied: beautifulsoup4 in /usr/local/lib/python3.10/dist-packages (from nbconvert>=6.4.4->jupyter-server~=1.2->jupyterlab==3.0.7->colabcode) (4.11.2)\n",
            "Requirement already satisfied: bleach in /usr/local/lib/python3.10/dist-packages (from nbconvert>=6.4.4->jupyter-server~=1.2->jupyterlab==3.0.7->colabcode) (6.1.0)\n",
            "Requirement already satisfied: defusedxml in /usr/local/lib/python3.10/dist-packages (from nbconvert>=6.4.4->jupyter-server~=1.2->jupyterlab==3.0.7->colabcode) (0.7.1)\n",
            "Requirement already satisfied: entrypoints>=0.2.2 in /usr/local/lib/python3.10/dist-packages (from nbconvert>=6.4.4->jupyter-server~=1.2->jupyterlab==3.0.7->colabcode) (0.4)\n",
            "Requirement already satisfied: jupyterlab-pygments in /usr/local/lib/python3.10/dist-packages (from nbconvert>=6.4.4->jupyter-server~=1.2->jupyterlab==3.0.7->colabcode) (0.3.0)\n",
            "Requirement already satisfied: mistune<2,>=0.8.1 in /usr/local/lib/python3.10/dist-packages (from nbconvert>=6.4.4->jupyter-server~=1.2->jupyterlab==3.0.7->colabcode) (0.8.4)\n",
            "Requirement already satisfied: nbclient>=0.5.0 in /usr/local/lib/python3.10/dist-packages (from nbconvert>=6.4.4->jupyter-server~=1.2->jupyterlab==3.0.7->colabcode) (0.9.0)\n",
            "Requirement already satisfied: pandocfilters>=1.4.1 in /usr/local/lib/python3.10/dist-packages (from nbconvert>=6.4.4->jupyter-server~=1.2->jupyterlab==3.0.7->colabcode) (1.5.0)\n",
            "Requirement already satisfied: tinycss2 in /usr/local/lib/python3.10/dist-packages (from nbconvert>=6.4.4->jupyter-server~=1.2->jupyterlab==3.0.7->colabcode) (1.2.1)\n",
            "Requirement already satisfied: fastjsonschema in /usr/local/lib/python3.10/dist-packages (from nbformat>=5.2.0->jupyter-server~=1.2->jupyterlab==3.0.7->colabcode) (2.19.0)\n",
            "Requirement already satisfied: ipython-genutils in /usr/local/lib/python3.10/dist-packages (from notebook<7->nbclassic~=0.2->jupyterlab==3.0.7->colabcode) (0.2.0)\n",
            "Requirement already satisfied: ipykernel in /usr/local/lib/python3.10/dist-packages (from notebook<7->nbclassic~=0.2->jupyterlab==3.0.7->colabcode) (5.5.6)\n",
            "Requirement already satisfied: ptyprocess>=0.5 in /usr/local/lib/python3.10/dist-packages (from pexpect>4.3->ipython->jupyterlab==3.0.7->colabcode) (0.7.0)\n",
            "Requirement already satisfied: wcwidth in /usr/local/lib/python3.10/dist-packages (from prompt-toolkit!=3.0.0,!=3.0.1,<3.1.0,>=2.0.0->ipython->jupyterlab==3.0.7->colabcode) (0.2.12)\n",
            "Requirement already satisfied: charset-normalizer<4,>=2 in /usr/local/lib/python3.10/dist-packages (from requests>=2.31->jupyterlab-server~=2.0->jupyterlab==3.0.7->colabcode) (3.3.2)\n",
            "Requirement already satisfied: urllib3<3,>=1.21.1 in /usr/local/lib/python3.10/dist-packages (from requests>=2.31->jupyterlab-server~=2.0->jupyterlab==3.0.7->colabcode) (2.0.7)\n",
            "Requirement already satisfied: certifi>=2017.4.17 in /usr/local/lib/python3.10/dist-packages (from requests>=2.31->jupyterlab-server~=2.0->jupyterlab==3.0.7->colabcode) (2023.11.17)\n",
            "Requirement already satisfied: argon2-cffi-bindings in /usr/local/lib/python3.10/dist-packages (from argon2-cffi->jupyter-server~=1.2->jupyterlab==3.0.7->colabcode) (21.2.0)\n",
            "Requirement already satisfied: six>=1.5 in /usr/local/lib/python3.10/dist-packages (from python-dateutil>=2.1->jupyter-client>=6.1.12->jupyter-server~=1.2->jupyterlab==3.0.7->colabcode) (1.16.0)\n",
            "Requirement already satisfied: cffi>=1.0.1 in /usr/local/lib/python3.10/dist-packages (from argon2-cffi-bindings->argon2-cffi->jupyter-server~=1.2->jupyterlab==3.0.7->colabcode) (1.16.0)\n",
            "Requirement already satisfied: soupsieve>1.2 in /usr/local/lib/python3.10/dist-packages (from beautifulsoup4->nbconvert>=6.4.4->jupyter-server~=1.2->jupyterlab==3.0.7->colabcode) (2.5)\n",
            "Requirement already satisfied: webencodings in /usr/local/lib/python3.10/dist-packages (from bleach->nbconvert>=6.4.4->jupyter-server~=1.2->jupyterlab==3.0.7->colabcode) (0.5.1)\n",
            "Requirement already satisfied: pycparser in /usr/local/lib/python3.10/dist-packages (from cffi>=1.0.1->argon2-cffi-bindings->argon2-cffi->jupyter-server~=1.2->jupyterlab==3.0.7->colabcode) (2.21)\n",
            "Requirement already satisfied: fastapi in /usr/local/lib/python3.10/dist-packages (0.104.1)\n",
            "Requirement already satisfied: anyio<4.0.0,>=3.7.1 in /usr/local/lib/python3.10/dist-packages (from fastapi) (3.7.1)\n",
            "Requirement already satisfied: pydantic!=1.8,!=1.8.1,!=2.0.0,!=2.0.1,!=2.1.0,<3.0.0,>=1.7.4 in /usr/local/lib/python3.10/dist-packages (from fastapi) (1.10.13)\n",
            "Requirement already satisfied: starlette<0.28.0,>=0.27.0 in /usr/local/lib/python3.10/dist-packages (from fastapi) (0.27.0)\n",
            "Requirement already satisfied: typing-extensions>=4.8.0 in /usr/local/lib/python3.10/dist-packages (from fastapi) (4.8.0)\n",
            "Requirement already satisfied: idna>=2.8 in /usr/local/lib/python3.10/dist-packages (from anyio<4.0.0,>=3.7.1->fastapi) (3.6)\n",
            "Requirement already satisfied: sniffio>=1.1 in /usr/local/lib/python3.10/dist-packages (from anyio<4.0.0,>=3.7.1->fastapi) (1.3.0)\n",
            "Requirement already satisfied: exceptiongroup in /usr/local/lib/python3.10/dist-packages (from anyio<4.0.0,>=3.7.1->fastapi) (1.2.0)\n"
          ]
        }
      ]
    },
    {
      "cell_type": "code",
      "source": [
        "from colabcode import ColabCode\n",
        "from fastapi import FastAPI"
      ],
      "metadata": {
        "id": "5SRr5tK5H-AW"
      },
      "execution_count": 2,
      "outputs": []
    },
    {
      "cell_type": "code",
      "source": [
        "cc=ColabCode(port=12000, code=False)"
      ],
      "metadata": {
        "id": "xB51lWlQIFwq"
      },
      "execution_count": 15,
      "outputs": []
    },
    {
      "cell_type": "code",
      "source": [
        "import sqlite3\n",
        "from fastapi import FastAPI\n",
        "from pydantic import BaseModel\n",
        "from typing import Optional"
      ],
      "metadata": {
        "id": "vriumoQ-IzqO"
      },
      "execution_count": 16,
      "outputs": []
    },
    {
      "cell_type": "code",
      "source": [
        "class Item(BaseModel):\n",
        "    Posicion : str\n",
        "    Area : Optional[str]\n",
        "    Aliq : Optional[int]\n",
        "    Grupo_personal : Optional[str]\n",
        "    CODIGO_POSTAL : Optional[int]\n",
        "    Motivo_RENUNCIA : Optional[str]\n",
        "    Banda : Optional[str]\n",
        "    Baja: Optional[int]\n",
        "    ReglaPHT : Optional[str]\n",
        "    Alta: Optional[int]\n",
        "    Antiguedad : Optional[int]\n",
        "    Sexo  : Optional[str]\n",
        "    Lugar_nacimiento : Optional[str]\n",
        "    Nacionalidad : Optional[str]\n",
        "    Edad : Optional[int]\n",
        "    Estado_Civil : Optional[str]\n",
        "    Hijos : Optional[int]\n",
        "\n",
        "app = FastAPI()"
      ],
      "metadata": {
        "id": "xyUo80I2I4F_"
      },
      "execution_count": 17,
      "outputs": []
    },
    {
      "cell_type": "code",
      "source": [
        "@app.post(\"/agregar_elemento/\")\n",
        "async def agregar_elemento(item: Item):\n",
        "    conn = sqlite3.connect(\"RH.db\")\n",
        "    cursor = conn.cursor()\n",
        "    cursor.execute(\"INSERT INTO RH (Posicion, Area, Aliq, Grupo_personal, CODIGO_POSTAL, Motivo_RENUNCIA, Banda,\tBaja, ReglaPHT, Alta, Antiguedad,\tSexo, Lugar_nacimiento,\tNacionalidad, Edad, Estado_Civil, Hijos) VALUES (?, ?, ?, ?, ?, ?, ?, ?, ?, ?, ?, ?, ?, ?, ?, ?, ?)\", (item.Posicion, item.Area, item.Aliq, item.Grupo_personal, item.CODIGO_POSTAL, item.Motivo_RENUNCIA, item.Banda,\titem.Baja, item.ReglaPHT, item.Alta, item.Antiguedad,\titem.Sexo, item.Lugar_nacimiento,\titem.Nacionalidad, item.Edad, item.Estado_Civil, item.Hijos))\n",
        "    conn.commit()\n",
        "    conn.close()\n",
        "    return {\"mensaje\": \"Datos agregados exitosamente.\"}"
      ],
      "metadata": {
        "id": "IG0rJCRJJIfk"
      },
      "execution_count": 18,
      "outputs": []
    },
    {
      "cell_type": "code",
      "source": [
        "@app.get(\"/leer_elementos/\")\n",
        "async def leer_elementos():\n",
        "    conn = sqlite3.connect(\"RH.db\")\n",
        "    cursor = conn.cursor()\n",
        "    cursor.execute(\"SELECT Posicion, Area, Aliq, Grupo_personal, CODIGO_POSTAL, Motivo_RENUNCIA, Banda,\tBaja, ReglaPHT, Alta, Antiguedad,\tSexo, Lugar_nacimiento,\tNacionalidad, Edad, Estado_Civil, Hijos FROM RH\")\n",
        "    resultados = cursor.fetchall()\n",
        "    conn.close()\n",
        "    if resultados:\n",
        "        return [{\"Posicion\": resultado[0], \"Area\": resultado[1], \"Aliq\": resultado[2],\"Grupo_personal\":resultado[3], \"CODIGO_POSTAL\":resultado[4], \"Motivo_RENUNCIA\":resultado[5], \"Banda\":resultado[6], \"Baja\":resultado[7], \"ReglaPHT\":resultado[8], \"Alta\":resultado[9], \"Antiguedad\":resultado[10], \"Sexo\":resultado[11], \"Lugar_nacimiento\":resultado[12], \"Nacionalidad\":resultado[13], \"Edad\":resultado[14], \"Estado_Civil\":resultado[15], \"Hijos\":resultado[16]} for resultado in resultados]\n",
        "    else:\n",
        "        return {\"mensaje\": \"No se encontraron los datos.\"}"
      ],
      "metadata": {
        "id": "MO3o00tgOu8N"
      },
      "execution_count": 19,
      "outputs": []
    },
    {
      "cell_type": "code",
      "source": [
        "@app.get(\"/leer_elemento/{id}/\")\n",
        "async def leer_elemento(id: int):\n",
        "    conn = sqlite3.connect(\"RH.db\")\n",
        "    cursor = conn.cursor()\n",
        "    cursor.execute(\"SELECT Posicion, Area, Aliq, Grupo_personal, CODIGO_POSTAL, Motivo_RENUNCIA, Banda,\tBaja, ReglaPHT, Alta, Antiguedad,\tSexo, Lugar_nacimiento,\tNacionalidad, Edad, Estado_Civil, Hijos FROM RH WHERE id=?\", (id,))\n",
        "    resultado = cursor.fetchone()\n",
        "    conn.close()\n",
        "    if resultado is not None:\n",
        "        return {\"Posicion\": resultado[0], \"Area\": resultado[1], \"Aliq\": resultado[2],\"Grupo_personal\":resultado[3], \"CODIGO_POSTAL\":resultado[4], \"Motivo_RENUNCIA\":resultado[5], \"Banda\":resultado[6], \"Baja\":resultado[7], \"ReglaPHT\":resultado[8], \"Alta\":resultado[9], \"Antiguedad\":resultado[10], \"Sexo\":resultado[11], \"Lugar_nacimiento\":resultado[12], \"Nacionalidad\":resultado[13], \"Edad\":resultado[14], \"Estado_Civil\":resultado[15], \"Hijos\":resultado[16]}\n",
        "    else:\n",
        "        return {\"mensaje\": \"No se encontraron los datos solicitados.\"}"
      ],
      "metadata": {
        "id": "mPevMYXmP1Vg"
      },
      "execution_count": 20,
      "outputs": []
    },
    {
      "cell_type": "code",
      "source": [
        "@app.put(\"/actualizar_elemento/{id}/\")\n",
        "async def actualizar_elemento(id: int, item: Item):\n",
        "    conn = sqlite3.connect(\"RH.db\")\n",
        "    cursor = conn.cursor()\n",
        "    cursor.execute(\"UPDATE RH SET Posicion=?, Area=?, Aliq=?, Grupo personal=?, CODIGO_POSTAL=?, Motivo_RENUNCIA=?, Banda=?, Baja=?, ReglaPHT=?, Alta=?, Antiguedad=?, Sexo=?, Lugar_nacimiento=?, Nacionalidad=?, Edad=?, Estado_Civil=?, Hijos=? WHERE id=?\", (item.Posicion, item.Area, item.Aliq, item.Grupo_personal, item.CODIGO_POSTAL, item.Motivo_RENUNCIA, item.Banda,\titem.Baja, item.ReglaPHT, item.Alta, item.Antiguedad,\titem.Sexo, item.Lugar_nacimiento,\titem.Nacionalidad, item.Edad, item.Estado_Civil, item.Hijos, id))\n",
        "    conn.commit()\n",
        "    conn.close()\n",
        "    return {\"mensaje\": \"Datos actualizados exitosamente.\"}"
      ],
      "metadata": {
        "id": "gA8tLdfuQgAd"
      },
      "execution_count": 21,
      "outputs": []
    },
    {
      "cell_type": "code",
      "source": [
        "@app.delete(\"/eliminar_elemento/{id}/\")\n",
        "async def eliminar_elemento(id: int):\n",
        "    conn = sqlite3.connect(\"RH.db\")\n",
        "    cursor = conn.cursor()\n",
        "    cursor.execute(\"DELETE FROM pRH WHERE id=?\", (id,))\n",
        "    conn.commit()\n",
        "    conn.close()\n",
        "    return {\"mensaje\": \"Datos eliminados exitosamente.\"}"
      ],
      "metadata": {
        "id": "k_VLWLgvS3Ft"
      },
      "execution_count": 22,
      "outputs": []
    },
    {
      "cell_type": "code",
      "source": [
        "cc.run_app(app=app)"
      ],
      "metadata": {
        "colab": {
          "base_uri": "https://localhost:8080/"
        },
        "id": "QxMj201RIZ50",
        "outputId": "12c5c008-1a1e-4d43-de95-837e25bbc57e"
      },
      "execution_count": 23,
      "outputs": [
        {
          "output_type": "stream",
          "name": "stdout",
          "text": []
        },
        {
          "output_type": "stream",
          "name": "stderr",
          "text": [
            "INFO:     Started server process [827]\n",
            "INFO:uvicorn.error:Started server process [827]\n",
            "INFO:     Waiting for application startup.\n",
            "INFO:uvicorn.error:Waiting for application startup.\n",
            "INFO:     Application startup complete.\n",
            "INFO:uvicorn.error:Application startup complete.\n",
            "INFO:     Uvicorn running on http://127.0.0.1:12000 (Press CTRL+C to quit)\n",
            "INFO:uvicorn.error:Uvicorn running on http://127.0.0.1:12000 (Press CTRL+C to quit)\n"
          ]
        },
        {
          "output_type": "stream",
          "name": "stdout",
          "text": [
            "Public URL: NgrokTunnel: \"https://e29f-34-125-67-21.ngrok.io\" -> \"http://localhost:12000\"\n",
            "INFO:     2806:1016:c:ad39:880d:4b83:4e74:8238:0 - \"GET / HTTP/1.1\" 404 Not Found\n",
            "INFO:     2806:1016:c:ad39:880d:4b83:4e74:8238:0 - \"GET /favicon.ico HTTP/1.1\" 404 Not Found\n"
          ]
        },
        {
          "output_type": "stream",
          "name": "stderr",
          "text": [
            "INFO:     Shutting down\n",
            "INFO:uvicorn.error:Shutting down\n",
            "INFO:     Waiting for application shutdown.\n",
            "INFO:uvicorn.error:Waiting for application shutdown.\n",
            "INFO:     Application shutdown complete.\n",
            "INFO:uvicorn.error:Application shutdown complete.\n",
            "INFO:     Finished server process [827]\n",
            "INFO:uvicorn.error:Finished server process [827]\n"
          ]
        }
      ]
    },
    {
      "cell_type": "code",
      "source": [],
      "metadata": {
        "id": "Bg-rfI1WIjmf"
      },
      "execution_count": null,
      "outputs": []
    }
  ],
  "metadata": {
    "colab": {
      "provenance": []
    },
    "kernelspec": {
      "display_name": "Python 3",
      "name": "python3"
    },
    "language_info": {
      "name": "python"
    }
  },
  "nbformat": 4,
  "nbformat_minor": 0
}